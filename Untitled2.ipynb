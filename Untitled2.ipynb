{
 "cells": [
  {
   "cell_type": "code",
   "execution_count": null,
   "metadata": {},
   "outputs": [],
   "source": [
    "Instructions\n",
    "\n",
    "\n",
    "Create a class Surfer and initialize it with name, hometown, and rank instance variables.\n",
    "\n",
    "\n",
    "Create an instance of a surfer.\n",
    "\n",
    "\n",
    "Then print the name, hometown and rank of your surfer object.\n",
    "\n",
    "\n",
    "\n",
    "Bonus\n",
    "\n",
    "\n",
    "Create a while loop that will allow you to continuously create new instances of surfers using input().\n",
    "\n",
    "\n",
    "Keep the loop going until the user specifies otherwise.\n",
    "\n"
   ]
  },
  {
   "cell_type": "code",
   "execution_count": null,
   "metadata": {},
   "outputs": [],
   "source": [
    "Create a Surfer class that has name, hometown, rank, and wipeouts instance variables.\n",
    "\n",
    "\n",
    "Create a method called speak that prints \"Hangs loose, bruh!\"\n",
    "\n",
    "\n",
    "Create a method called biography that prints the surfer's name and hometown.\n",
    "\n",
    "\n",
    "Create a method called cheer that will print \"I totally rock man, no wipeouts!\" if the surfer has no wipeouts. Otherwise, it prints 'Bummer bruh, keep on keeping on!'.\n",
    "\n",
    "\n",
    "Create two surfers that print out all their info and run all the methods.\n",
    "\n",
    "\n",
    "\n",
    "Bonus\n",
    "\n",
    "Add a method to your class that prints out how many surfers are currently shredding.\n",
    "\n",
    "\n",
    "HINT\n",
    "\n",
    "\n",
    "Create a class variable shared by all instances of Surfer and an instance variable to increment it each time a new surfer is created.\n",
    "\n",
    "\n",
    "Refer to the Python documentation on classes"
   ]
  },
  {
   "cell_type": "code",
   "execution_count": 85,
   "metadata": {},
   "outputs": [],
   "source": [
    "class Surfer:\n",
    "    def __init__(self, name, hometown, rank, wipeouts):\n",
    "        self.name = name\n",
    "        self.hometown = hometown\n",
    "        self.rank = rank\n",
    "        self.wipeouts = wipeouts\n",
    "        \n",
    "    def show(self):\n",
    "        print('Name is {}, hometown is {}, rank is {}, wipeouts is {}'.format(self.name, self.hometown, self.rank, self.wipeouts))\n",
    "        # return ('Name is {}, hometown is {}, rank is {}'.format(self.name, self.hometown, self.rank))\n",
    "        \n",
    "    def biography(self):\n",
    "        print(self.name, self.hometown)\n",
    "        #return self.name, self.hometown\n",
    "        \n",
    "    \n",
    "    def speak(self):\n",
    "        print(\"Hangs loose, bruh!\")\n",
    "        #return \"Hangs loose, bruh!\" \n",
    "    \n",
    "    def cheer(self):\n",
    "        if self.wipeouts == 0:\n",
    "            print(\"I totally rock man, no wipeouts!\")\n",
    "            #return \"I totally rock man, no wipeouts!\"\n",
    "        else:\n",
    "            print(\"Bummer bruh, keep on keeping on!\")\n",
    "            #return 'Bummer bruh, keep on keeping on!\"'\n",
    "      \n",
    "        \n",
    "        \n",
    "            "
   ]
  },
  {
   "cell_type": "code",
   "execution_count": 86,
   "metadata": {},
   "outputs": [],
   "source": [
    "person1 = Surfer('Mike', 'Georgia', 'Learner', 3)\n",
    "person2 = Surfer('Tony', 'Maryland', 'Expert', 0)\n"
   ]
  },
  {
   "cell_type": "code",
   "execution_count": 88,
   "metadata": {},
   "outputs": [
    {
     "name": "stdout",
     "output_type": "stream",
     "text": [
      "Mike Georgia\n"
     ]
    }
   ],
   "source": [
    "person1.biography()"
   ]
  },
  {
   "cell_type": "code",
   "execution_count": 79,
   "metadata": {},
   "outputs": [
    {
     "name": "stdout",
     "output_type": "stream",
     "text": [
      "Name is Mike, hometown is Georgia, rank is Learner, wipeouts is 3\n",
      "Mike Georgia\n",
      "Hangs loose, bruh!\n",
      "Bummer bruh, keep on keeping on!\n"
     ]
    }
   ],
   "source": [
    "person1.show()\n",
    "person1.biography()\n",
    "person1.speak()\n",
    "person1.cheer()"
   ]
  },
  {
   "cell_type": "code",
   "execution_count": 80,
   "metadata": {},
   "outputs": [
    {
     "name": "stdout",
     "output_type": "stream",
     "text": [
      "Name is Mike, hometown is Georgia, rank is Learner, wipeouts is 3\n",
      "None\n"
     ]
    }
   ],
   "source": []
  },
  {
   "cell_type": "code",
   "execution_count": null,
   "metadata": {},
   "outputs": [],
   "source": []
  }
 ],
 "metadata": {
  "kernelspec": {
   "display_name": "Python 3",
   "language": "python",
   "name": "python3"
  },
  "language_info": {
   "codemirror_mode": {
    "name": "ipython",
    "version": 3
   },
   "file_extension": ".py",
   "mimetype": "text/x-python",
   "name": "python",
   "nbconvert_exporter": "python",
   "pygments_lexer": "ipython3",
   "version": "3.7.9"
  }
 },
 "nbformat": 4,
 "nbformat_minor": 4
}
